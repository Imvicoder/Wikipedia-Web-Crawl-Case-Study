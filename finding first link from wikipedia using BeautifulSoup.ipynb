{
 "cells": [
  {
   "cell_type": "code",
   "execution_count": 33,
   "metadata": {
    "collapsed": true
   },
   "outputs": [],
   "source": [
    "import bs4 as bs"
   ]
  },
  {
   "cell_type": "code",
   "execution_count": 68,
   "metadata": {},
   "outputs": [],
   "source": [
    "import urllib.request\n",
    "srccode=urllib.request.urlopen('https://en.wikipedia.org/wiki/PICALM')\n",
    "bsobj=bs.BeautifulSoup(srccode,'lxml')\n"
   ]
  },
  {
   "cell_type": "code",
   "execution_count": 69,
   "metadata": {},
   "outputs": [
    {
     "name": "stdout",
     "output_type": "stream",
     "text": [
      "<p class=\"plainlinks\"><a class=\"external text\" href=\"https://www.ncbi.nlm.nih.gov/entrez/query.fcgi?db=gene&amp;cmd=retrieve&amp;dopt=default&amp;list_uids=8301&amp;rn=1\" rel=\"nofollow\">8301</a></p>\n"
     ]
    }
   ],
   "source": [
    "for div in bsobj.find_all('div',class_='mw-parser-output'):\n",
    "    print(div.p)"
   ]
  },
  {
   "cell_type": "code",
   "execution_count": 70,
   "metadata": {},
   "outputs": [
    {
     "name": "stdout",
     "output_type": "stream",
     "text": [
      "<a class=\"external text\" href=\"https://www.ncbi.nlm.nih.gov/entrez/query.fcgi?db=gene&amp;cmd=retrieve&amp;dopt=default&amp;list_uids=8301&amp;rn=1\" rel=\"nofollow\">8301</a>\n"
     ]
    }
   ],
   "source": [
    "for div in bsobj.find_all('div',class_='mw-parser-output'):\n",
    "    print(div.p.find('a'))"
   ]
  },
  {
   "cell_type": "code",
   "execution_count": 75,
   "metadata": {},
   "outputs": [
    {
     "name": "stdout",
     "output_type": "stream",
     "text": [
      "/wiki/Protein\n"
     ]
    }
   ],
   "source": [
    "url=[]\n",
    "divs=bsobj.find('div',id='mw-content-text').find('div',class_='mw-parser-output')\n",
    "for i in (divs.find_all('p',recursive=False)):\n",
    "    if i.find('a',recursive=False):\n",
    "       first_url=i.find('a',recursive=False).get('href')\n",
    "       break\n",
    "print(first_url)        "
   ]
  },
  {
   "cell_type": "code",
   "execution_count": null,
   "metadata": {
    "collapsed": true
   },
   "outputs": [],
   "source": []
  },
  {
   "cell_type": "code",
   "execution_count": null,
   "metadata": {
    "collapsed": true
   },
   "outputs": [],
   "source": []
  }
 ],
 "metadata": {
  "kernelspec": {
   "display_name": "Python 3",
   "language": "python",
   "name": "python3"
  },
  "language_info": {
   "codemirror_mode": {
    "name": "ipython",
    "version": 3
   },
   "file_extension": ".py",
   "mimetype": "text/x-python",
   "name": "python",
   "nbconvert_exporter": "python",
   "pygments_lexer": "ipython3",
   "version": "3.6.1"
  }
 },
 "nbformat": 4,
 "nbformat_minor": 2
}
